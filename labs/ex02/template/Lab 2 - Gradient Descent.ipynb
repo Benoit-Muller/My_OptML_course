{
 "cells": [
  {
   "cell_type": "code",
   "execution_count": 80,
   "metadata": {},
   "outputs": [
    {
     "name": "stdout",
     "output_type": "stream",
     "text": [
      "The autoreload extension is already loaded. To reload it, use:\n",
      "  %reload_ext autoreload\n"
     ]
    }
   ],
   "source": [
    "# Useful starting lines\n",
    "%matplotlib inline\n",
    "import numpy as np\n",
    "import matplotlib.pyplot as plt\n",
    "%load_ext autoreload\n",
    "%autoreload 2"
   ]
  },
  {
   "cell_type": "code",
   "execution_count": 81,
   "metadata": {},
   "outputs": [
    {
     "name": "stdout",
     "output_type": "stream",
     "text": [
      "You are running Python 3. Good job :)\n"
     ]
    }
   ],
   "source": [
    "# Check the Python version\n",
    "import sys\n",
    "if sys.version.startswith(\"3.\"):\n",
    "  print(\"You are running Python 3. Good job :)\")\n",
    "else:\n",
    "  print(\"This notebook requires Python 3.\\nIf you are using Google Colab, go to Runtime > Change runtime type and choose Python 3.\")"
   ]
  },
  {
   "cell_type": "code",
   "execution_count": 82,
   "metadata": {},
   "outputs": [],
   "source": [
    "try:\n",
    "  import google.colab\n",
    "  IN_COLAB = True\n",
    "except:\n",
    "  IN_COLAB = False\n",
    "if IN_COLAB:\n",
    "  # Clone the entire repo to access the files.\n",
    "  !git clone -l -s https://github.com/epfml/OptML_course.git cloned-repo\n",
    "  %cd cloned-repo/labs/ex02/template/"
   ]
  },
  {
   "cell_type": "markdown",
   "metadata": {},
   "source": [
    "# Load the data"
   ]
  },
  {
   "cell_type": "code",
   "execution_count": 83,
   "metadata": {},
   "outputs": [],
   "source": [
    "import datetime\n",
    "from helpers import *\n",
    "\n",
    "height, weight, gender = load_data(sub_sample=False, add_outlier=False)\n",
    "x, mean_x, std_x = standardize(height)\n",
    "b, A = build_model_data(x, weight)"
   ]
  },
  {
   "cell_type": "code",
   "execution_count": 84,
   "metadata": {},
   "outputs": [
    {
     "name": "stdout",
     "output_type": "stream",
     "text": [
      "Number of samples n =  10000\n",
      "Dimension of each sample d =  2\n"
     ]
    }
   ],
   "source": [
    "print('Number of samples n = ', b.shape[0])\n",
    "print('Dimension of each sample d = ', A.shape[1])"
   ]
  },
  {
   "cell_type": "markdown",
   "metadata": {},
   "source": [
    "# Least Squares Estimation\n",
    "Least squares estimation is one of the fundamental machine learning algorithms. Given an $ n \\times d $ matrix $A$ and a $ n \\times 1$ vector $b$, the goal is to find a vector $x \\in \\mathbb{R}^d$ which minimizes the objective function $$f(x) = \\frac{1}{2n} \\sum_{i=1}^{n} (a_i^\\top x - b_i)^2 = \\frac{1}{2n} \\|Ax - b\\|^2 $$\n",
    "\n",
    "In this exercise, we will try to fit $x$ using Least Squares Estimation. \n",
    "\n",
    "One can see the function is $L$ smooth with $L =\\frac1n\\|A^T A\\|  = \\frac1n\\|A\\|^2$ (Lemma 2.3 for the first equality, and a few manipulations for the second)."
   ]
  },
  {
   "cell_type": "markdown",
   "metadata": {},
   "source": [
    "# Computing the Objective Function\n",
    "Fill in the `calculate_objective` function below:"
   ]
  },
  {
   "cell_type": "code",
   "execution_count": 85,
   "metadata": {},
   "outputs": [],
   "source": [
    "def calculate_objective(Axmb):\n",
    "    \"\"\"Calculate the mean squared error for vector Axmb = Ax - b.\"\"\"\n",
    "    # ***************************************************\n",
    "    # INSERT YOUR CODE HERE\n",
    "    # TODO: compute mean squared error\n",
    "    return np.sum(Axmb**2)\n",
    "    # ***************************************************"
   ]
  },
  {
   "cell_type": "markdown",
   "metadata": {},
   "source": [
    "# Compute smoothness constant $L$"
   ]
  },
  {
   "cell_type": "markdown",
   "metadata": {},
   "source": [
    "To compute the spectral norm of A you can use np.linalg.norm(A, 2)"
   ]
  },
  {
   "cell_type": "code",
   "execution_count": 86,
   "metadata": {},
   "outputs": [],
   "source": [
    "def calculate_L(b, A):\n",
    "    \"\"\"Calculate the smoothness constant for f\"\"\"\n",
    "    # ***************************************************\n",
    "    # INSERT YOUR CODE HERE\n",
    "    # TODO: compute ||A.T*A||\n",
    "    # ***************************************************\n",
    "    # ***************************************************\n",
    "    # INSERT YOUR CODE HERE\n",
    "    # TODO: compute L = smoothness constant of f\n",
    "    # ***************************************************\n",
    "    n=len(b)\n",
    "    return np.linalg.norm(A,2)**2/n"
   ]
  },
  {
   "cell_type": "markdown",
   "metadata": {},
   "source": [
    "# Gradient Descent"
   ]
  },
  {
   "cell_type": "markdown",
   "metadata": {},
   "source": [
    "Please fill in the functions `compute_gradient` below:"
   ]
  },
  {
   "cell_type": "code",
   "execution_count": 87,
   "metadata": {},
   "outputs": [],
   "source": [
    "def compute_gradient(b, A, x):\n",
    "    \"\"\"Compute the gradient.\"\"\"\n",
    "    # ***************************************************\n",
    "    # INSERT YOUR CODE HERE\n",
    "    # TODO: compute gradient and objective\n",
    "    Axmb = A@x-b\n",
    "    n = len(b)\n",
    "    grad = A.T @ Axmb/n\n",
    "    # ***************************************************\n",
    "    return grad, Axmb"
   ]
  },
  {
   "cell_type": "markdown",
   "metadata": {},
   "source": [
    "Please fill in the functions `gradient_descent` below:"
   ]
  },
  {
   "cell_type": "code",
   "execution_count": 88,
   "metadata": {},
   "outputs": [],
   "source": [
    "def gradient_descent(b, A, initial_x, max_iters, gamma):\n",
    "    \"\"\"Gradient descent algorithm.\"\"\"\n",
    "    # Define parameters to store x and objective func. values\n",
    "    xs = [initial_x]\n",
    "    objectives = []\n",
    "    x = initial_x\n",
    "    L = calculate_L(b,A)\n",
    "    for n_iter in range(max_iters):\n",
    "        # ***************************************************\n",
    "        # INSERT YOUR CODE HERE\n",
    "        # TODO: compute gradient and objective function\n",
    "        # ***************************************************\n",
    "        grad, Axmb = compute_gradient(b,A,x)\n",
    "        obj = calculate_objective(Axmb)\n",
    "        # ***************************************************\n",
    "        # INSERT YOUR CODE HERE\n",
    "        # TODO: update x by a gradient descent step\n",
    "        # ***************************************************\n",
    "        x = x - gamma*grad\n",
    "        # store x and objective function value\n",
    "        xs.append(x)\n",
    "        objectives.append(obj)\n",
    "        print(\"Gradient Descent({bi}/{ti}): objective={l}\".format(\n",
    "              bi=n_iter, ti=max_iters - 1, l=obj))\n",
    "\n",
    "    return objectives, xs"
   ]
  },
  {
   "cell_type": "markdown",
   "metadata": {},
   "source": [
    "Test your gradient descent function with a naive step size through gradient descent demo shown below:"
   ]
  },
  {
   "cell_type": "code",
   "execution_count": 89,
   "metadata": {},
   "outputs": [
    {
     "name": "stdout",
     "output_type": "stream",
     "text": [
      "Gradient Descent(0/49): objective=55844734.25518335\n",
      "Gradient Descent(1/49): objective=45292701.120600075\n",
      "Gradient Descent(2/49): objective=36745554.281587616\n",
      "Gradient Descent(3/49): objective=29822365.341987535\n",
      "Gradient Descent(4/49): objective=24214582.300911464\n",
      "Gradient Descent(5/49): objective=19672278.037639838\n",
      "Gradient Descent(6/49): objective=15993011.584389824\n",
      "Gradient Descent(7/49): objective=13012805.757257303\n",
      "Gradient Descent(8/49): objective=10598839.037279971\n",
      "Gradient Descent(9/49): objective=8643525.994098332\n",
      "Gradient Descent(10/49): objective=7059722.4291212\n",
      "Gradient Descent(11/49): objective=5776841.541489724\n",
      "Gradient Descent(12/49): objective=4737708.022508227\n",
      "Gradient Descent(13/49): objective=3896009.8721332173\n",
      "Gradient Descent(14/49): objective=3214234.3703294587\n",
      "Gradient Descent(15/49): objective=2661996.2138684127\n",
      "Gradient Descent(16/49): objective=2214683.3071349664\n",
      "Gradient Descent(17/49): objective=1852359.8526808745\n",
      "Gradient Descent(18/49): objective=1558877.8545730605\n",
      "Gradient Descent(19/49): objective=1321157.4361057314\n",
      "Gradient Descent(20/49): objective=1128603.8971471947\n",
      "Gradient Descent(21/49): objective=972635.53059078\n",
      "Gradient Descent(22/49): objective=846301.1536800842\n",
      "Gradient Descent(23/49): objective=743970.3083824206\n",
      "Gradient Descent(24/49): objective=661082.3236913126\n",
      "Gradient Descent(25/49): objective=593943.0560915156\n",
      "Gradient Descent(26/49): objective=539560.2493356798\n",
      "Gradient Descent(27/49): objective=495510.1758634524\n",
      "Gradient Descent(28/49): objective=459829.61635094864\n",
      "Gradient Descent(29/49): objective=430928.36314582\n",
      "Gradient Descent(30/49): objective=407518.3480496661\n",
      "Gradient Descent(31/49): objective=388556.235821781\n",
      "Gradient Descent(32/49): objective=373196.92491719464\n",
      "Gradient Descent(33/49): objective=360755.88308447954\n",
      "Gradient Descent(34/49): objective=350678.63919997984\n",
      "Gradient Descent(35/49): objective=342516.0716535354\n",
      "Gradient Descent(36/49): objective=335904.39194091543\n",
      "Gradient Descent(37/49): objective=330548.93137369334\n",
      "Gradient Descent(38/49): objective=326211.0083142434\n",
      "Gradient Descent(39/49): objective=322697.2906360887\n",
      "Gradient Descent(40/49): objective=319851.17931678356\n",
      "Gradient Descent(41/49): objective=317545.82914814644\n",
      "Gradient Descent(42/49): objective=315678.4955115502\n",
      "Gradient Descent(43/49): objective=314165.9552659074\n",
      "Gradient Descent(44/49): objective=312940.79766693665\n",
      "Gradient Descent(45/49): objective=311948.4200117705\n",
      "Gradient Descent(46/49): objective=311144.59411108587\n",
      "Gradient Descent(47/49): objective=310493.4951315312\n",
      "Gradient Descent(48/49): objective=309966.10495809204\n",
      "Gradient Descent(49/49): objective=309538.91891760624\n",
      "Gradient Descent: execution time=0.026 seconds\n"
     ]
    }
   ],
   "source": [
    "# from gradient_descent import *\n",
    "from plots import gradient_descent_visualization\n",
    "\n",
    "# Define the parameters of the algorithm.\n",
    "max_iters = 50\n",
    "\n",
    "gamma = 0.1\n",
    "\n",
    "# Initialization\n",
    "x_initial = np.zeros(A.shape[1])\n",
    "\n",
    "# Start gradient descent.\n",
    "start_time = datetime.datetime.now()\n",
    "gradient_objectives_naive, gradient_xs_naive = gradient_descent(b, A, x_initial, max_iters, gamma)\n",
    "end_time = datetime.datetime.now()\n",
    "\n",
    "# Print result\n",
    "exection_time = (end_time - start_time).total_seconds()\n",
    "print(\"Gradient Descent: execution time={t:.3f} seconds\".format(t=exection_time))"
   ]
  },
  {
   "cell_type": "markdown",
   "metadata": {},
   "source": [
    "Time Visualization"
   ]
  },
  {
   "cell_type": "code",
   "execution_count": 90,
   "metadata": {},
   "outputs": [
    {
     "data": {
      "application/vnd.jupyter.widget-view+json": {
       "model_id": "5f8ccad387b841d7bd34a0a7f9094cd5",
       "version_major": 2,
       "version_minor": 0
      },
      "text/plain": [
       "interactive(children=(IntSlider(value=1, description='n_iter', max=51, min=1), Output()), _dom_classes=('widge…"
      ]
     },
     "metadata": {},
     "output_type": "display_data"
    },
    {
     "data": {
      "text/plain": [
       "<function __main__.plot_figure(n_iter)>"
      ]
     },
     "execution_count": 90,
     "metadata": {},
     "output_type": "execute_result"
    }
   ],
   "source": [
    "from ipywidgets import IntSlider, interact\n",
    "from grid_search import *\n",
    "\n",
    "def plot_figure(n_iter):\n",
    "    # Generate grid data for visualization (parameters to be swept and best combination)\n",
    "    grid_x0, grid_x1 = generate_w(num_intervals=10)\n",
    "    grid_objectives = grid_search(b, A, grid_x0, grid_x1)\n",
    "    obj_star, x0_star, x1_star = get_best_parameters(grid_x0, grid_x1, grid_objectives)\n",
    "    \n",
    "    fig = gradient_descent_visualization(\n",
    "        gradient_objectives_naive, gradient_xs_naive, grid_objectives, grid_x0, grid_x1, mean_x, std_x, height, weight, n_iter)\n",
    "    fig.set_size_inches(10.0, 6.0)\n",
    "\n",
    "interact(plot_figure, n_iter=IntSlider(min=1, max=len(gradient_xs_naive)))"
   ]
  },
  {
   "cell_type": "markdown",
   "metadata": {},
   "source": [
    "Try doing gradient descent with a better learning rate"
   ]
  },
  {
   "cell_type": "code",
   "execution_count": 91,
   "metadata": {},
   "outputs": [
    {
     "name": "stdout",
     "output_type": "stream",
     "text": [
      "Gradient Descent(0/49): objective=55844734.25518335\n",
      "Gradient Descent(1/49): objective=307717.757376588\n",
      "Gradient Descent(2/49): objective=307717.757376588\n",
      "Gradient Descent(3/49): objective=307717.757376588\n",
      "Gradient Descent(4/49): objective=307717.757376588\n",
      "Gradient Descent(5/49): objective=307717.757376588\n",
      "Gradient Descent(6/49): objective=307717.757376588\n",
      "Gradient Descent(7/49): objective=307717.757376588\n",
      "Gradient Descent(8/49): objective=307717.757376588\n",
      "Gradient Descent(9/49): objective=307717.757376588\n",
      "Gradient Descent(10/49): objective=307717.757376588\n",
      "Gradient Descent(11/49): objective=307717.757376588\n",
      "Gradient Descent(12/49): objective=307717.757376588\n",
      "Gradient Descent(13/49): objective=307717.757376588\n",
      "Gradient Descent(14/49): objective=307717.757376588\n",
      "Gradient Descent(15/49): objective=307717.757376588\n",
      "Gradient Descent(16/49): objective=307717.757376588\n",
      "Gradient Descent(17/49): objective=307717.757376588\n",
      "Gradient Descent(18/49): objective=307717.757376588\n",
      "Gradient Descent(19/49): objective=307717.757376588\n",
      "Gradient Descent(20/49): objective=307717.757376588\n",
      "Gradient Descent(21/49): objective=307717.757376588\n",
      "Gradient Descent(22/49): objective=307717.757376588\n",
      "Gradient Descent(23/49): objective=307717.757376588\n",
      "Gradient Descent(24/49): objective=307717.757376588\n",
      "Gradient Descent(25/49): objective=307717.757376588\n",
      "Gradient Descent(26/49): objective=307717.757376588\n",
      "Gradient Descent(27/49): objective=307717.757376588\n",
      "Gradient Descent(28/49): objective=307717.757376588\n",
      "Gradient Descent(29/49): objective=307717.757376588\n",
      "Gradient Descent(30/49): objective=307717.757376588\n",
      "Gradient Descent(31/49): objective=307717.757376588\n",
      "Gradient Descent(32/49): objective=307717.757376588\n",
      "Gradient Descent(33/49): objective=307717.757376588\n",
      "Gradient Descent(34/49): objective=307717.757376588\n",
      "Gradient Descent(35/49): objective=307717.757376588\n",
      "Gradient Descent(36/49): objective=307717.757376588\n",
      "Gradient Descent(37/49): objective=307717.757376588\n",
      "Gradient Descent(38/49): objective=307717.757376588\n",
      "Gradient Descent(39/49): objective=307717.757376588\n",
      "Gradient Descent(40/49): objective=307717.757376588\n",
      "Gradient Descent(41/49): objective=307717.757376588\n",
      "Gradient Descent(42/49): objective=307717.757376588\n",
      "Gradient Descent(43/49): objective=307717.757376588\n",
      "Gradient Descent(44/49): objective=307717.757376588\n",
      "Gradient Descent(45/49): objective=307717.757376588\n",
      "Gradient Descent(46/49): objective=307717.757376588\n",
      "Gradient Descent(47/49): objective=307717.757376588\n",
      "Gradient Descent(48/49): objective=307717.757376588\n",
      "Gradient Descent(49/49): objective=307717.757376588\n",
      "Gradient Descent: execution time=0.039 seconds\n"
     ]
    }
   ],
   "source": [
    "# Define the parameters of the algorithm.\n",
    "max_iters = 50\n",
    "\n",
    "# ***************************************************\n",
    "# INSERT YOUR CODE HERE\n",
    "# TODO: a better learning rate using the smoothness of f\n",
    "# ***************************************************\n",
    "gamma = 1/calculate_L(b,A)\n",
    "\n",
    "# Initialization\n",
    "x_initial = np.zeros(A.shape[1])\n",
    "\n",
    "# Start gradient descent.\n",
    "start_time = datetime.datetime.now()\n",
    "gradient_objectives, gradient_xs = gradient_descent(b, A, x_initial, max_iters, gamma)\n",
    "end_time = datetime.datetime.now()\n",
    "\n",
    "# Print result\n",
    "exection_time = (end_time - start_time).total_seconds()\n",
    "print(\"Gradient Descent: execution time={t:.3f} seconds\".format(t=exection_time))"
   ]
  },
  {
   "cell_type": "markdown",
   "metadata": {},
   "source": [
    "Time visualization with a better learning rate"
   ]
  },
  {
   "cell_type": "code",
   "execution_count": 92,
   "metadata": {},
   "outputs": [
    {
     "data": {
      "application/vnd.jupyter.widget-view+json": {
       "model_id": "3730320fa7d64856849ee4ff3cfbb9a0",
       "version_major": 2,
       "version_minor": 0
      },
      "text/plain": [
       "interactive(children=(IntSlider(value=1, description='n_iter', max=51, min=1), Output()), _dom_classes=('widge…"
      ]
     },
     "metadata": {},
     "output_type": "display_data"
    },
    {
     "data": {
      "text/plain": [
       "<function __main__.plot_figure(n_iter)>"
      ]
     },
     "execution_count": 92,
     "metadata": {},
     "output_type": "execute_result"
    }
   ],
   "source": [
    "def plot_figure(n_iter):\n",
    "    # Generate grid data for visualization (parameters to be swept and best combination)\n",
    "    grid_x0, grid_x1 = generate_w(num_intervals=10)\n",
    "    grid_objectives = grid_search(b, A, grid_x0, grid_x1)\n",
    "    obj_star, x0_star, x1_star = get_best_parameters(grid_x0, grid_x1, grid_objectives)\n",
    "    \n",
    "    fig = gradient_descent_visualization(\n",
    "        gradient_objectives, gradient_xs, grid_objectives, grid_x0, grid_x1, mean_x, std_x, height, weight, n_iter)\n",
    "    fig.set_size_inches(10.0, 6.0)\n",
    "\n",
    "interact(plot_figure, n_iter=IntSlider(min=1, max=len(gradient_xs)))"
   ]
  },
  {
   "cell_type": "markdown",
   "metadata": {},
   "source": [
    "# Loading more complex data\n",
    "The data is taken from https://archive.ics.uci.edu/ml/datasets/Concrete+Compressive+Strength "
   ]
  },
  {
   "cell_type": "code",
   "execution_count": 93,
   "metadata": {},
   "outputs": [],
   "source": [
    "data = np.loadtxt(\"Concrete_Data.csv\",delimiter=\",\")\n",
    "\n",
    "A = data[:,:-1]\n",
    "b = data[:,-1]\n",
    "A, mean_A, std_A = standardize(A)"
   ]
  },
  {
   "cell_type": "code",
   "execution_count": 94,
   "metadata": {},
   "outputs": [
    {
     "name": "stdout",
     "output_type": "stream",
     "text": [
      "Number of samples n =  1030\n",
      "Dimension of each sample d =  8\n"
     ]
    }
   ],
   "source": [
    "n=b.shape[0]\n",
    "d=A.shape[1]\n",
    "print('Number of samples n = ', n)\n",
    "print('Dimension of each sample d = ', d)"
   ]
  },
  {
   "cell_type": "markdown",
   "metadata": {},
   "source": [
    "# Running gradient descent"
   ]
  },
  {
   "cell_type": "markdown",
   "metadata": {},
   "source": [
    "## Assuming bounded gradients\n",
    "Assume we are moving in a bounded region $\\|x\\| \\leq 25$ containing all iterates (and we assume $\\|x-x^\\star\\| \\leq 25$ as well, for simplicity). Then by $\\nabla f(x) = \\frac{1}{n}A^\\top (Ax - b)$, one can see that $f$ is Lipschitz over that bounded region, with Lipschitz constant $\\|\\nabla f(x)\\| \\leq \\frac{1}{n} (\\|A^\\top A\\|\\|x\\| + \\|A^\\top b\\|)$"
   ]
  },
  {
   "cell_type": "code",
   "execution_count": 95,
   "metadata": {},
   "outputs": [],
   "source": [
    "# ***************************************************\n",
    "# INSERT YOUR CODE HERE\n",
    "# TODO: Compute the bound on the gradient norm\n",
    "# ***************************************************\n",
    "grad_norm_bound = np.linalg.norm(A,2)*25/n"
   ]
  },
  {
   "cell_type": "markdown",
   "metadata": {},
   "source": [
    "Fill in the learning rate assuming bounded gradients"
   ]
  },
  {
   "cell_type": "code",
   "execution_count": 96,
   "metadata": {},
   "outputs": [
    {
     "name": "stdout",
     "output_type": "stream",
     "text": [
      "Gradient Descent(0/49): objective=1608589.3194\n",
      "Gradient Descent(1/49): objective=1566802.0875213996\n",
      "Gradient Descent(2/49): objective=1601221.3735112962\n",
      "Gradient Descent(3/49): objective=1771980.002484974\n",
      "Gradient Descent(4/49): objective=2750470.570112402\n",
      "Gradient Descent(5/49): objective=8879318.743683964\n",
      "Gradient Descent(6/49): objective=48074275.637819886\n",
      "Gradient Descent(7/49): objective=299792889.259684\n",
      "Gradient Descent(8/49): objective=1917738643.0706446\n",
      "Gradient Descent(9/49): objective=12318969016.241016\n",
      "Gradient Descent(10/49): objective=79187210086.00871\n",
      "Gradient Descent(11/49): objective=509077856527.06036\n",
      "Gradient Descent(12/49): objective=3272814687169.831\n",
      "Gradient Descent(13/49): objective=21040690038992.35\n",
      "Gradient Descent(14/49): objective=135269154020862.75\n",
      "Gradient Descent(15/49): objective=869636200486139.2\n",
      "Gradient Descent(16/49): objective=5590832140077820.0\n",
      "Gradient Descent(17/49): objective=3.5943080678002708e+16\n",
      "Gradient Descent(18/49): objective=2.310756282793286e+17\n",
      "Gradient Descent(19/49): objective=1.485569544497254e+18\n",
      "Gradient Descent(20/49): objective=9.550625862277091e+18\n",
      "Gradient Descent(21/49): objective=6.140032602275195e+19\n",
      "Gradient Descent(22/49): objective=3.947385323295279e+20\n",
      "Gradient Descent(23/49): objective=2.5377472563901487e+21\n",
      "Gradient Descent(24/49): objective=1.6315005021956526e+22\n",
      "Gradient Descent(25/49): objective=1.0488806093523251e+23\n",
      "Gradient Descent(26/49): objective=6.74318231097532e+23\n",
      "Gradient Descent(27/49): objective=4.3351461809488564e+24\n",
      "Gradient Descent(28/49): objective=2.7870360822970542e+25\n",
      "Gradient Descent(29/49): objective=1.7917665978971862e+26\n",
      "Gradient Descent(30/49): objective=1.1519145954845505e+27\n",
      "Gradient Descent(31/49): objective=7.405580820892586e+27\n",
      "Gradient Descent(32/49): objective=4.76099769112681e+28\n",
      "Gradient Descent(33/49): objective=3.0608131304119247e+29\n",
      "Gradient Descent(34/49): objective=1.967776005596999e+30\n",
      "Gradient Descent(35/49): objective=1.2650698501421342e+31\n",
      "Gradient Descent(36/49): objective=8.13304827981727e+31\n",
      "Gradient Descent(37/49): objective=5.2286815873769365e+32\n",
      "Gradient Descent(38/49): objective=3.3614839358593845e+33\n",
      "Gradient Descent(39/49): objective=2.1610752275143523e+34\n",
      "Gradient Descent(40/49): objective=1.3893406091147139e+35\n",
      "Gradient Descent(41/49): objective=8.93197656222002e+35\n",
      "Gradient Descent(42/49): objective=5.742307162451943e+36\n",
      "Gradient Descent(43/49): objective=3.691690335084268e+37\n",
      "Gradient Descent(44/49): objective=2.373362682384837e+38\n",
      "Gradient Descent(45/49): objective=1.525818774290114e+39\n",
      "Gradient Descent(46/49): objective=9.809385431293677e+39\n",
      "Gradient Descent(47/49): objective=6.306387374506177e+40\n",
      "Gradient Descent(48/49): objective=4.05433367828079e+41\n",
      "Gradient Descent(49/49): objective=2.6065036285737196e+42\n",
      "Gradient Descent: execution time=0.020 seconds\n"
     ]
    }
   ],
   "source": [
    "max_iters = 50\n",
    "\n",
    "# ***************************************************\n",
    "# INSERT YOUR CODE HERE\n",
    "# TODO: Compute learning rate based on bounded gradient\n",
    "# ***************************************************\n",
    "gamma = 25/(np.sqrt(max_iters)*calculate_L(b,A))\n",
    "\n",
    "# Initialization\n",
    "x_initial = np.zeros(A.shape[1])\n",
    "\n",
    "# Start gradient descent.\n",
    "start_time = datetime.datetime.now()\n",
    "bd_gradient_objectives, bd_gradient_xs = gradient_descent(b, A, x_initial, max_iters, gamma)\n",
    "end_time = datetime.datetime.now()\n",
    "\n",
    "\n",
    "# Print result\n",
    "exection_time = (end_time - start_time).total_seconds()\n",
    "print(\"Gradient Descent: execution time={t:.3f} seconds\".format(t=exection_time))\n",
    "\n",
    "# Averaging the iterates as is the case for bounded gradients case\n",
    "bd_gradient_objectives_averaged = []\n",
    "for i in range(len(bd_gradient_xs)):\n",
    "    if i > 0:\n",
    "        bd_gradient_xs[i] = (i * bd_gradient_xs[i-1] + bd_gradient_xs[i])/(i + 1)\n",
    "    grad, err = compute_gradient(b, A, bd_gradient_xs[i])\n",
    "    obj = calculate_objective(err)\n",
    "    bd_gradient_objectives_averaged.append(obj)"
   ]
  },
  {
   "cell_type": "markdown",
   "metadata": {},
   "source": [
    "## Gradient descent using smoothness\n",
    "Fill in the learning rate using smoothness of the function"
   ]
  },
  {
   "cell_type": "code",
   "execution_count": 97,
   "metadata": {},
   "outputs": [
    {
     "name": "stdout",
     "output_type": "stream",
     "text": [
      "Gradient Descent(0/49): objective=1608589.3194\n",
      "Gradient Descent(1/49): objective=1486300.8274136996\n",
      "Gradient Descent(2/49): objective=1455975.7783689671\n",
      "Gradient Descent(3/49): objective=1446461.8783659479\n",
      "Gradient Descent(4/49): objective=1442658.3154793829\n",
      "Gradient Descent(5/49): objective=1440749.0202057152\n",
      "Gradient Descent(6/49): objective=1439582.618582006\n",
      "Gradient Descent(7/49): objective=1438756.0068379738\n",
      "Gradient Descent(8/49): objective=1438111.0913902302\n",
      "Gradient Descent(9/49): objective=1437579.3264737932\n",
      "Gradient Descent(10/49): objective=1437127.4665092193\n",
      "Gradient Descent(11/49): objective=1436737.1031394051\n",
      "Gradient Descent(12/49): objective=1436396.5468463483\n",
      "Gradient Descent(13/49): objective=1436097.4703507535\n",
      "Gradient Descent(14/49): objective=1435833.4530986706\n",
      "Gradient Descent(15/49): objective=1435599.3058894658\n",
      "Gradient Descent(16/49): objective=1435390.7255587308\n",
      "Gradient Descent(17/49): objective=1435204.095468116\n",
      "Gradient Descent(18/49): objective=1435036.3548347554\n",
      "Gradient Descent(19/49): objective=1434884.903859145\n",
      "Gradient Descent(20/49): objective=1434747.5298551985\n",
      "Gradient Descent(21/49): objective=1434622.3472995744\n",
      "Gradient Descent(22/49): objective=1434507.7480648316\n",
      "Gradient Descent(23/49): objective=1434402.3596163478\n",
      "Gradient Descent(24/49): objective=1434305.009686706\n",
      "Gradient Descent(25/49): objective=1434214.6963329222\n",
      "Gradient Descent(26/49): objective=1434130.5625172604\n",
      "Gradient Descent(27/49): objective=1434051.8745113662\n",
      "Gradient Descent(28/49): objective=1433978.0035412132\n",
      "Gradient Descent(29/49): objective=1433908.4101831042\n",
      "Gradient Descent(30/49): objective=1433842.6310966997\n",
      "Gradient Descent(31/49): objective=1433780.2677440844\n",
      "Gradient Descent(32/49): objective=1433720.9767969279\n",
      "Gradient Descent(33/49): objective=1433664.4619786206\n",
      "Gradient Descent(34/49): objective=1433610.4671263015\n",
      "Gradient Descent(35/49): objective=1433558.7702899529\n",
      "Gradient Descent(36/49): objective=1433509.1787131664\n",
      "Gradient Descent(37/49): objective=1433461.5245634825\n",
      "Gradient Descent(38/49): objective=1433415.661300003\n",
      "Gradient Descent(39/49): objective=1433371.4605828188\n",
      "Gradient Descent(40/49): objective=1433328.809643097\n",
      "Gradient Descent(41/49): objective=1433287.609044839\n",
      "Gradient Descent(42/49): objective=1433247.7707796632\n",
      "Gradient Descent(43/49): objective=1433209.2166447523\n",
      "Gradient Descent(44/49): objective=1433171.8768615797\n",
      "Gradient Descent(45/49): objective=1433135.6888993823\n",
      "Gradient Descent(46/49): objective=1433100.5964727467\n",
      "Gradient Descent(47/49): objective=1433066.5486872687\n",
      "Gradient Descent(48/49): objective=1433033.49931114\n",
      "Gradient Descent(49/49): objective=1433001.406153847\n",
      "Gradient Descent: execution time=0.021 seconds\n"
     ]
    }
   ],
   "source": [
    "max_iters = 50\n",
    "\n",
    "\n",
    "# ***************************************************\n",
    "# INSERT YOUR CODE HERE\n",
    "# TODO: a better learning rate using the smoothness of f\n",
    "# ***************************************************\n",
    "gamma = 1/calculate_L(b,A)\n",
    "\n",
    "# Initialization\n",
    "x_initial = np.zeros(A.shape[1])\n",
    "\n",
    "# Start gradient descent.\n",
    "start_time = datetime.datetime.now()\n",
    "gradient_objectives, gradient_xs = gradient_descent(b, A, x_initial, max_iters, gamma)\n",
    "end_time = datetime.datetime.now()\n",
    "\n",
    "# Print result\n",
    "exection_time = (end_time - start_time).total_seconds()\n",
    "print(\"Gradient Descent: execution time={t:.3f} seconds\".format(t=exection_time))"
   ]
  },
  {
   "cell_type": "markdown",
   "metadata": {},
   "source": [
    "## Plotting the Evolution of the Objective Function"
   ]
  },
  {
   "cell_type": "code",
   "execution_count": 99,
   "metadata": {},
   "outputs": [
    {
     "data": {
      "image/png": "[encoded data removed]",
      "text/plain": [
       "<Figure size 576x576 with 1 Axes>"
      ]
     },
     "metadata": {
      "needs_background": "light"
     },
     "output_type": "display_data"
    }
   ],
   "source": [
    "plt.figure(figsize=(8, 8))\n",
    "plt.xlabel('Number of steps')\n",
    "plt.ylabel('Objective Function')\n",
    "#plt.yscale(\"log\")\n",
    "plt.plot(range(len(gradient_objectives)), gradient_objectives,'r', label='gradient descent with 1/L stepsize')\n",
    "plt.plot(range(len(bd_gradient_objectives)), bd_gradient_objectives,'b', label='gradient descent assuming bounded gradients')\n",
    "plt.plot(range(len(bd_gradient_objectives_averaged)), bd_gradient_objectives_averaged,'g', label='gradient descent assuming bounded gradients with averaged iterates')\n",
    "plt.legend(loc='upper right')\n",
    "plt.show()"
   ]
  }
 ],
 "metadata": {
  "anaconda-cloud": {},
  "kernelspec": {
   "display_name": "Python 3",
   "language": "python",
   "name": "python3"
  },
  "language_info": {
   "codemirror_mode": {
    "name": "ipython",
    "version": 3
   },
   "file_extension": ".py",
   "mimetype": "text/x-python",
   "name": "python",
   "nbconvert_exporter": "python",
   "pygments_lexer": "ipython3",
   "version": "3.9.12"
  },
  "widgets": {
   "state": {
    "d2b2c3aea192430e81437f33ba0b0e69": {
     "views": [
      {
       "cell_index": 22
      }
     ]
    },
    "e4a6a7a70ccd42ddb112989c04f2ed3f": {
     "views": [
      {
       "cell_index": 18
      }
     ]
    }
   },
   "version": "1.2.0"
  }
 },
 "nbformat": 4,
 "nbformat_minor": 1
}
